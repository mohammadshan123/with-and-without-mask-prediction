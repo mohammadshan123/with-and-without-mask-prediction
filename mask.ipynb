{
 "cells": [
  {
   "cell_type": "code",
   "execution_count": 4,
   "metadata": {},
   "outputs": [],
   "source": [
    "import os\n",
    "import shutil\n",
    "import random\n",
    "\n",
    "dataset_path=r\"C:\\Users\\PC\\Downloads\\Facemask_detection\\data\"\n",
    "with_mask_path=r\"C:\\Users\\PC\\Downloads\\Facemask_detection\\with_mask\"\n",
    "without_mask_path=r\"C:\\Users\\PC\\Downloads\\Facemask_detection\\without_mask\"\n",
    "\n",
    "\n",
    "categories=[\"with_mask\",\"without_mask\"]\n",
    "\n",
    "split_ratio=0.8\n",
    "\n",
    "for category in categories:\n",
    "    os.makedirs(os.path.join(dataset_path,\"train\",category),exist_ok=True)\n",
    "    os.makedirs(os.path.join(dataset_path,\"test\",category),exist_ok=True)\n",
    "    \n",
    "    images=os.listdir(os.path.join(dataset_path,category))\n",
    "    random.shuffle(images)\n",
    "    \n",
    "    \n",
    "    train_size=int(split_ratio*len(images))\n",
    "    train_images=images[:train_size]\n",
    "    val_images=images[train_size:]\n",
    "    \n",
    "    for image in train_images:\n",
    "        shutil.move(os.path.join(dataset_path,category,image),os.path.join(dataset_path,\"train\",category,image))\n",
    "    for image in val_images:    \n",
    "        shutil.move(os.path.join(dataset_path,category,image),os.path.join(dataset_path,\"test\",category,image))"
   ]
  },
  {
   "cell_type": "code",
   "execution_count": 2,
   "metadata": {},
   "outputs": [
    {
     "name": "stdout",
     "output_type": "stream",
     "text": [
      "Checking path: C:\\Users\\PC\\Downloads\\Facemask_detection\\with_mask Exists? False\n",
      "Checking path: C:\\Users\\PC\\Downloads\\Facemask_detection\\without_mask Exists? False\n",
      "Found 8763 images belonging to 1 classes.\n",
      "Found 8763 images belonging to 1 classes.\n"
     ]
    },
    {
     "name": "stderr",
     "output_type": "stream",
     "text": [
      "c:\\Users\\PC\\anaconda3\\Lib\\site-packages\\keras\\src\\layers\\convolutional\\base_conv.py:107: UserWarning: Do not pass an `input_shape`/`input_dim` argument to a layer. When using Sequential models, prefer using an `Input(shape)` object as the first layer in the model instead.\n",
      "  super().__init__(activity_regularizer=activity_regularizer, **kwargs)\n",
      "c:\\Users\\PC\\anaconda3\\Lib\\site-packages\\keras\\src\\trainers\\data_adapters\\py_dataset_adapter.py:121: UserWarning: Your `PyDataset` class should call `super().__init__(**kwargs)` in its constructor. `**kwargs` can include `workers`, `use_multiprocessing`, `max_queue_size`. Do not pass these arguments to `fit()`, as they will be ignored.\n",
      "  self._warn_if_super_not_called()\n"
     ]
    },
    {
     "name": "stdout",
     "output_type": "stream",
     "text": [
      "Epoch 1/5\n",
      "\u001b[1m149/274\u001b[0m \u001b[32m━━━━━━━━━━\u001b[0m\u001b[37m━━━━━━━━━━\u001b[0m \u001b[1m1:12\u001b[0m 583ms/step - accuracy: 0.9731 - loss: 0.0272"
     ]
    },
    {
     "name": "stderr",
     "output_type": "stream",
     "text": [
      "c:\\Users\\PC\\anaconda3\\Lib\\site-packages\\PIL\\Image.py:1056: UserWarning: Palette images with Transparency expressed in bytes should be converted to RGBA images\n",
      "  warnings.warn(\n"
     ]
    },
    {
     "name": "stdout",
     "output_type": "stream",
     "text": [
      "\u001b[1m274/274\u001b[0m \u001b[32m━━━━━━━━━━━━━━━━━━━━\u001b[0m\u001b[37m\u001b[0m \u001b[1m187s\u001b[0m 679ms/step - accuracy: 0.9838 - loss: 0.0164 - val_accuracy: 1.0000 - val_loss: 1.6732e-27\n",
      "Epoch 2/5\n",
      "\u001b[1m274/274\u001b[0m \u001b[32m━━━━━━━━━━━━━━━━━━━━\u001b[0m\u001b[37m\u001b[0m \u001b[1m148s\u001b[0m 541ms/step - accuracy: 1.0000 - loss: 7.6426e-31 - val_accuracy: 1.0000 - val_loss: 1.6732e-27\n",
      "Epoch 3/5\n",
      "\u001b[1m274/274\u001b[0m \u001b[32m━━━━━━━━━━━━━━━━━━━━\u001b[0m\u001b[37m\u001b[0m \u001b[1m146s\u001b[0m 531ms/step - accuracy: 1.0000 - loss: 4.3456e-28 - val_accuracy: 1.0000 - val_loss: 1.6732e-27\n",
      "Epoch 4/5\n",
      "\u001b[1m274/274\u001b[0m \u001b[32m━━━━━━━━━━━━━━━━━━━━\u001b[0m\u001b[37m\u001b[0m \u001b[1m150s\u001b[0m 546ms/step - accuracy: 1.0000 - loss: 3.7955e-28 - val_accuracy: 1.0000 - val_loss: 1.6732e-27\n",
      "Epoch 5/5\n",
      "\u001b[1m274/274\u001b[0m \u001b[32m━━━━━━━━━━━━━━━━━━━━\u001b[0m\u001b[37m\u001b[0m \u001b[1m152s\u001b[0m 553ms/step - accuracy: 1.0000 - loss: 3.2407e-27 - val_accuracy: 1.0000 - val_loss: 1.6732e-27\n"
     ]
    },
    {
     "name": "stderr",
     "output_type": "stream",
     "text": [
      "WARNING:absl:You are saving your model as an HDF5 file via `model.save()` or `keras.saving.save_model(model)`. This file format is considered legacy. We recommend using instead the native Keras format, e.g. `model.save('my_model.keras')` or `keras.saving.save_model(model, 'my_model.keras')`. \n"
     ]
    },
    {
     "name": "stdout",
     "output_type": "stream",
     "text": [
      "Model is saved as mask_detector.h5\n"
     ]
    }
   ],
   "source": [
    "import tensorflow as tf\n",
    "from tensorflow.keras.models import Sequential\n",
    "from tensorflow.keras.layers import Conv2D, MaxPooling2D, Flatten, Dense, Dropout\n",
    "from tensorflow.keras.preprocessing.image import ImageDataGenerator\n",
    "\n",
    "import os\n",
    "\n",
    "train_with_mask = \"C:\\\\Users\\\\PC\\\\Downloads\\\\Facemask_detection\\\\with_mask\"\n",
    "train_without_mask = \"C:\\\\Users\\\\PC\\\\Downloads\\\\Facemask_detection\\\\without_mask\"\n",
    "\n",
    "print(\"Checking path:\", train_with_mask, \"Exists?\", os.path.exists(train_with_mask))\n",
    "print(\"Checking path:\", train_without_mask, \"Exists?\", os.path.exists(train_without_mask))\n",
    "\n",
    "\n",
    "\n",
    "train_data_path = \"C:\\\\Users\\\\PC\\\\Downloads\\\\Facemask_detection\"\n",
    "\n",
    "train_datagen = ImageDataGenerator(rescale=1./255, shear_range=0.2, zoom_range=0.2, horizontal_flip=True)\n",
    "val_datagen = ImageDataGenerator(rescale=1./255)\n",
    "\n",
    "train_generator = train_datagen.flow_from_directory(\n",
    "    train_data_path,  # Parent folder containing \"with_mask\" & \"without_mask\"\n",
    "    target_size=(150, 150),\n",
    "    batch_size=32,\n",
    "    class_mode='binary'\n",
    ")\n",
    "\n",
    "val_generator = val_datagen.flow_from_directory(\n",
    "    train_data_path,  # Parent folder containing \"with_mask\" & \"without_mask\"\n",
    "    target_size=(150, 150),\n",
    "    batch_size=32,\n",
    "    class_mode='binary'\n",
    ")\n",
    "\n",
    "\n",
    "model=Sequential([\n",
    "    Conv2D(32, (3, 3), activation='relu', input_shape=(150, 150, 3)),\n",
    "    MaxPooling2D(2, 2),\n",
    "    Conv2D(64, (3, 3), activation='relu'),\n",
    "    MaxPooling2D(2, 2),\n",
    "    Conv2D(128, (3, 3), activation='relu'),\n",
    "    MaxPooling2D(2, 2),\n",
    "    Flatten(),\n",
    "    Dense(512, activation='relu'),\n",
    "    Dropout(0.5),\n",
    "    Dense(1, activation='sigmoid')\n",
    "])\n",
    "\n",
    "model.compile(optimizer='adam', loss='binary_crossentropy', metrics=['accuracy'])\n",
    "\n",
    "model.fit(train_generator, steps_per_epoch=len(train_generator), epochs=5, validation_data=val_generator, validation_steps=len(val_generator))\n",
    "\n",
    "model.save(\"mask_detector.h5\")\n",
    "print(\"Model is saved as mask_detector.h5\")"
   ]
  },
  {
   "cell_type": "code",
   "execution_count": 17,
   "metadata": {},
   "outputs": [
    {
     "name": "stderr",
     "output_type": "stream",
     "text": [
      "WARNING:absl:Compiled the loaded model, but the compiled metrics have yet to be built. `model.compile_metrics` will be empty until you train or evaluate the model.\n"
     ]
    },
    {
     "name": "stdout",
     "output_type": "stream",
     "text": [
      "\u001b[1m1/1\u001b[0m \u001b[32m━━━━━━━━━━━━━━━━━━━━\u001b[0m\u001b[37m\u001b[0m \u001b[1m0s\u001b[0m 65ms/step\n",
      "without mask\n"
     ]
    }
   ],
   "source": [
    "import numpy as np\n",
    "from tensorflow.keras.preprocessing import image\n",
    "\n",
    "model=tf.keras.models.load_model(\"mask_detector.h5\")\n",
    "\n",
    "\n",
    "img_path=r\"C:\\Users\\PC\\Downloads\\Facemask_detection\\data\\train\\with_mask\\with_mask_3721.jpg\"\n",
    "img=image.load_img(img_path,target_size=(150,150))\n",
    "img_array=image.img_to_array(img)\n",
    "img_array=np.expand_dims(img_array,axis=0)\n",
    "\n",
    "\n",
    "prediction=model.predict(img_array)\n",
    "prediction\n",
    "\n",
    "if prediction > 0.5:\n",
    "    print(\"with mask\")\n",
    "else:\n",
    "    print(\"without mask\")"
   ]
  }
 ],
 "metadata": {
  "kernelspec": {
   "display_name": "base",
   "language": "python",
   "name": "python3"
  },
  "language_info": {
   "codemirror_mode": {
    "name": "ipython",
    "version": 3
   },
   "file_extension": ".py",
   "mimetype": "text/x-python",
   "name": "python",
   "nbconvert_exporter": "python",
   "pygments_lexer": "ipython3",
   "version": "3.12.7"
  }
 },
 "nbformat": 4,
 "nbformat_minor": 2
}-
